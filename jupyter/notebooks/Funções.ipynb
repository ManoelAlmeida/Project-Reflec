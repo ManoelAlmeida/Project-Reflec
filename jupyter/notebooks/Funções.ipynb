{
 "cells": [
  {
   "cell_type": "code",
   "execution_count": 1,
   "metadata": {},
   "outputs": [],
   "source": [
    "import numpy as np"
   ]
  },
  {
   "cell_type": "code",
   "execution_count": 2,
   "metadata": {},
   "outputs": [],
   "source": [
    "exp1_a = [0.6961663, 0.4079426, 0.8974994]\n",
    "exp1_b = [0.004679148, 0.01351206, 97.934002]"
   ]
  },
  {
   "cell_type": "code",
   "execution_count": 3,
   "metadata": {},
   "outputs": [],
   "source": [
    "x = 1000"
   ]
  },
  {
   "cell_type": "code",
   "execution_count": 4,
   "metadata": {},
   "outputs": [],
   "source": [
    "exp1 = (1 + exp1_a[0] * (pow(2, x/1000) / pow(2, x/1000) - exp1_b[0])) + (exp1_a[1] * (pow(2, x/1000) / pow(2, x/1000) - exp1_b[1])) + (exp1_a[2] * (pow(2, x/1000) / pow(2, x/1000) - exp1_b[2]))"
   ]
  },
  {
   "cell_type": "code",
   "execution_count": 5,
   "metadata": {},
   "outputs": [
    {
     "name": "stdout",
     "output_type": "stream",
     "text": [
      "-84.90286934463687\n"
     ]
    }
   ],
   "source": [
    "print(exp1)"
   ]
  },
  {
   "cell_type": "code",
   "execution_count": 6,
   "metadata": {},
   "outputs": [
    {
     "name": "stdout",
     "output_type": "stream",
     "text": [
      "0.6929088348496876\n"
     ]
    }
   ],
   "source": [
    "print(exp1_a[0] * (pow(2, x/1000) / pow(2, x/1000) - exp1_b[0]))"
   ]
  },
  {
   "cell_type": "code",
   "execution_count": 7,
   "metadata": {},
   "outputs": [
    {
     "name": "stdout",
     "output_type": "stream",
     "text": [
      "0.6929088348496876\n"
     ]
    }
   ],
   "source": [
    "print(exp1_a[0] * (pow(2,x/1000) / pow(2,x/1000) - exp1_b[0]))"
   ]
  },
  {
   "cell_type": "code",
   "execution_count": 8,
   "metadata": {},
   "outputs": [
    {
     "name": "stdout",
     "output_type": "stream",
     "text": [
      "-85.90286934463687\n"
     ]
    }
   ],
   "source": [
    "print((exp1_a[0] * (pow(2,x/1000) / pow(2,x/1000) - exp1_b[0])) + (exp1_a[1] * (pow(2,x/1000) / pow(2,x/1000) - exp1_b[1])) + (exp1_a[2] * (pow(2,x/1000) / pow(2,x/1000) - exp1_b[2])))"
   ]
  },
  {
   "cell_type": "markdown",
   "metadata": {},
   "source": [
    "Permissividade para Vidro BK7"
   ]
  },
  {
   "cell_type": "code",
   "execution_count": 9,
   "metadata": {},
   "outputs": [],
   "source": [
    "exp1_a = [1.03961212, 0.231792344, 1.01046945]\n",
    "exp1_b = [0.00600069876, 0.0200179144, 103.560653]"
   ]
  },
  {
   "cell_type": "code",
   "execution_count": 10,
   "metadata": {},
   "outputs": [],
   "source": [
    "exp2 = (1 + exp1_a[0] * (pow(2, x/1000) / pow(2, x/1000) - exp1_b[0])) + (exp1_a[1] * (pow(2, x/1000) / pow(2, x/1000) - exp1_b[1])) + (exp1_a[2] * (pow(2, x/1000) / pow(2, x/1000) - exp1_b[2]))"
   ]
  },
  {
   "cell_type": "code",
   "execution_count": 11,
   "metadata": {},
   "outputs": [
    {
     "name": "stdout",
     "output_type": "stream",
     "text": [
      "-101.37388056301099\n"
     ]
    }
   ],
   "source": [
    "print(exp2)"
   ]
  },
  {
   "cell_type": "code",
   "execution_count": null,
   "metadata": {},
   "outputs": [],
   "source": []
  }
 ],
 "metadata": {
  "kernelspec": {
   "display_name": "Python 3",
   "language": "python",
   "name": "python3"
  },
  "language_info": {
   "codemirror_mode": {
    "name": "ipython",
    "version": 3
   },
   "file_extension": ".py",
   "mimetype": "text/x-python",
   "name": "python",
   "nbconvert_exporter": "python",
   "pygments_lexer": "ipython3",
   "version": "3.6.6"
  }
 },
 "nbformat": 4,
 "nbformat_minor": 2
}
