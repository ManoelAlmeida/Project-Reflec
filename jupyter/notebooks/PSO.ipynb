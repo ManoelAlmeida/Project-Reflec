{
 "cells": [
  {
   "cell_type": "code",
   "execution_count": 9,
   "metadata": {},
   "outputs": [],
   "source": [
    "from __future__ import division\n",
    "import random\n",
    "from IPython import get_ipython"
   ]
  },
  {
   "cell_type": "code",
   "execution_count": null,
   "metadata": {},
   "outputs": [],
   "source": [
    "from "
   ]
  },
  {
   "cell_type": "code",
   "execution_count": null,
   "metadata": {},
   "outputs": [],
   "source": []
  },
  {
   "cell_type": "code",
   "execution_count": 7,
   "metadata": {},
   "outputs": [
    {
     "ename": "ModuleNotFoundError",
     "evalue": "No module named 'ipynb'",
     "output_type": "error",
     "traceback": [
      "\u001b[0;31m---------------------------------------------------------------------------\u001b[0m",
      "\u001b[0;31mModuleNotFoundError\u001b[0m                       Traceback (most recent call last)",
      "\u001b[0;32m<ipython-input-7-e8822898e6b6>\u001b[0m in \u001b[0;36m<module>\u001b[0;34m()\u001b[0m\n\u001b[0;32m----> 1\u001b[0;31m \u001b[0;32mimport\u001b[0m \u001b[0mipynb\u001b[0m\u001b[0;34m.\u001b[0m\u001b[0mfs\u001b[0m\u001b[0;34m.\u001b[0m\u001b[0mdefs\u001b[0m\u001b[0;34m.\u001b[0m\u001b[0mPSO\u001b[0m \u001b[0;32mas\u001b[0m \u001b[0mPSO\u001b[0m\u001b[0;34m\u001b[0m\u001b[0m\n\u001b[0m",
      "\u001b[0;31mModuleNotFoundError\u001b[0m: No module named 'ipynb'"
     ]
    }
   ],
   "source": [
    "import ipynb.fs.defs.PSO as PSO"
   ]
  },
  {
   "cell_type": "code",
   "execution_count": null,
   "metadata": {},
   "outputs": [],
   "source": []
  },
  {
   "cell_type": "code",
   "execution_count": 1,
   "metadata": {},
   "outputs": [],
   "source": [
    "class PSO():\n",
    "    def __init__(self,func_fitness,x0,bounds,num_particles,maxiter):\n",
    "        err_best_g=-1                   # best error for group\n",
    "        pos_best_g=[]                   # best position for group\n",
    "\n",
    "        # establish the swarm\n",
    "        swarm=[]class Particle:\n",
    "    def __init__(self,x0):\n",
    "        self.position=[]          # particle position\n",
    "        self.velocity=[]          # particle velocity\n",
    "        self.pos_best=[]          # best position individual\n",
    "        self.err_best=-1          # best error individual\n",
    "        self.err=-1               # error individual\n",
    "\n",
    "        for i in range(0,num_dimensions):\n",
    "            self.velocity.append(random.uniform(-1,1))\n",
    "            self.position.append(x0[i])\n",
    "\n",
    "    # evaluate current fitness\n",
    "    def evaluate(self,func_fitness):\n",
    "        self.err=func_fitness(self.position)\n",
    "\n",
    "        # check to see if the current position is an individual best\n",
    "        if self.err < self.err_best or self.err_best==-1:\n",
    "            self.pos_best=self.position\n",
    "            self.err_best=self.err\n",
    "\n",
    "    # update new particle velocity - inertia192.168.99.100\n",
    "    def update_velocity_intertia(self,pos_best_g):\n",
    "        w=0.5          # constant inertia weight (how much to weigh the previous velocity)\n",
    "        c1=2.04        # cognative constant\n",
    "        c2=2.04        # social constant\n",
    "\n",
    "        for i in range(0,num_dimensions):\n",
    "            r1=random.random()\n",
    "            r2=random.random()\n",
    "\n",
    "            vel_cognitive=c1*r1*(self.pos_best[i]-self.position[i])\n",
    "            vel_social=c2*r2*(pos_best_g[i]-self.position[i])\n",
    "            self.velocity[i]=w*self.velocity[i]+vel_cognitive+vel_social\n",
    "    \n",
    "    # update new particle velocity - clerc\n",
    "    def update_velocity_clerc(self,pos_best_g):\n",
    "        c_fac = 0.7298\n",
    "        \n",
    "        \n",
    "        for i in range(0, num_dimensions):\n",
    "            r1=random.random()\n",
    "            r2=random.random()\n",
    "            \n",
    "            vel = c_fac * ((self.velocity[i] + r1) * (self.pos_best[i] - self.position[i]) + (r2 * (pos_best_g[i] - self.position[i])))\n",
    "            self.velocity[i] = vel\n",
    "        \n",
    "\n",
    "    # update the particle position based off new velocity updates\n",
    "    def update_position(self,bounds):\n",
    "        for i in range(0,num_dimensions):\n",
    "            self.position[i]=self.position[i]+self.velocity[i]\n",
    "\n",
    "            # adjust maximum position if necessary\n",
    "            if self.position[i]>bounds[i][1]:\n",
    "                self.position[i]=bounds[i][1]\n",
    "\n",
    "            # adjust minimum position if neseccary\n",
    "            if self.position[i] < bounds[i][0]:\n",
    "                self.position[i]=bounds[i][0]\n",
    "\n",
    "        for i in range(0,num_particles):\n",
    "            swarm.append(Particle(x0))\n",
    "\n",
    "        # begin optimization loop\n",
    "        i=0\n",
    "        while i < maxiter:\n",
    "            #print i,err_best_g\n",
    "            # cycle through particles in swarm and evaluate fitness\n",
    "            for j in range(0,num_particles):\n",
    "                swarm[j].evaluate(func_fitness)\n",
    "\n",
    "                # determine if current particle is the best (globally)\n",
    "                if swarm[j].err < err_best_g or err_best_g == -1:\n",
    "                    pos_best_g=list(swarm[j].position)\n",
    "                    err_best_g=float(swarm[j].err)\n",
    "\n",
    "            # cycle through swarm and update velocities and position\n",
    "            for j in range(0,num_particles):\n",
    "                swarm[j].update_velocity_intertia(pos_best_g)\n",
    "                #swarm[j].update_velocity_clerc(pos_best_g)\n",
    "                swarm[j].update_position(bounds)\n",
    "            i+=1\n",
    "\n",
    "        # print final results\n",
    "        print('Best position: ', pos_best_g)\n",
    "        print('Best error: ', err_best_g)"
   ]
  },
  {
   "cell_type": "code",
   "execution_count": null,
   "metadata": {},
   "outputs": [],
   "source": []
  }
 ],
 "metadata": {
  "kernelspec": {
   "display_name": "Python 3",
   "language": "python",
   "name": "python3"
  },
  "language_info": {
   "codemirror_mode": {
    "name": "ipython",
    "version": 3
   },
   "file_extension": ".py",
   "mimetype": "text/x-python",
   "name": "python",
   "nbconvert_exporter": "python",
   "pygments_lexer": "ipython3",
   "version": "3.6.6"
  }
 },
 "nbformat": 4,
 "nbformat_minor": 2
}
