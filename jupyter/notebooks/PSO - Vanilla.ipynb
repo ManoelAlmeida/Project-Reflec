{
 "cells": [
  {
   "cell_type": "code",
   "execution_count": null,
   "metadata": {},
   "outputs": [],
   "source": [
    "from __future__ import division\n",
    "import random\n",
    "import math"
   ]
  },
  {
   "cell_type": "code",
   "execution_count": 61,
   "metadata": {},
   "outputs": [],
   "source": [
    "# Sphere Function\n",
    "def Sphere(x):\n",
    "    total=0\n",
    "    for i in range(len(x)):\n",
    "        total+=x[i]**2\n",
    "    return total"
   ]
  },
  {
   "cell_type": "code",
   "execution_count": 62,
   "metadata": {},
   "outputs": [],
   "source": [
    "# Rosenbrock Function\n",
    "def Rosenbrock(x):\n",
    "    total=0\n",
    "    for i in range(len(x)):\n",
    "        total += ((100 * (x[i] - x[i]**2)**2) + (x[i] - 1)**2)\n",
    "    return total"
   ]
  },
  {
   "cell_type": "code",
   "execution_count": 76,
   "metadata": {},
   "outputs": [],
   "source": [
    "class Particle:\n",
    "    def __init__(self,x0):\n",
    "        self.position=[]          # particle position\n",
    "        self.velocity=[]          # particle velocity\n",
    "        self.pos_best=[]          # best position individual\n",
    "        self.err_best=-1          # best error individual\n",
    "        self.err=-1               # error individual\n",
    "\n",
    "        for i in range(0,num_dimensions):\n",
    "            self.velocity.append(random.uniform(-1,1))\n",
    "            self.position.append(x0[i])\n",
    "\n",
    "    # evaluate current fitness\n",
    "    def evaluate(self,func_fitness):\n",
    "        self.err=func_fitness(self.position)\n",
    "\n",
    "        # check to see if the current position is an individual best\n",
    "        if self.err < self.err_best or self.err_best==-1:\n",
    "            self.pos_best=self.position\n",
    "            self.err_best=self.err\n",
    "\n",
    "    # update new particle velocity - inertia192.168.99.100\n",
    "    def update_velocity_intertia(self,pos_best_g):\n",
    "        w=0.5          # constant inertia weight (how much to weigh the previous velocity)\n",
    "        c1=2.04        # cognative constant\n",
    "        c2=2.04        # social constant\n",
    "\n",
    "        for i in range(0,num_dimensions):\n",
    "            r1=random.random()\n",
    "            r2=random.random()\n",
    "\n",
    "            vel_cognitive=c1*r1*(self.pos_best[i]-self.position[i])\n",
    "            vel_social=c2*r2*(pos_best_g[i]-self.position[i])\n",
    "            self.velocity[i]=w*self.velocity[i]+vel_cognitive+vel_social\n",
    "    \n",
    "    # update new particle velocity - clerc\n",
    "    def update_velocity_clerc(self,pos_best_g):\n",
    "        c_fac = 0.7298\n",
    "        \n",
    "        \n",
    "        for i in range(0, num_dimensions):\n",
    "            r1=random.random()\n",
    "            r2=random.random()\n",
    "            \n",
    "            vel = c_fac * ((self.velocity[i] + r1) * (self.pos_best[i] - self.position[i]) + (r2 * (pos_best_g[i] - self.position[i])))\n",
    "            self.velocity[i] = vel\n",
    "        \n",
    "\n",
    "    # update the particle position based off new velocity updates\n",
    "    def update_position(self,bounds):\n",
    "        for i in range(0,num_dimensions):\n",
    "            self.position[i]=self.position[i]+self.velocity[i]\n",
    "\n",
    "            # adjust maximum position if necessary\n",
    "            if self.position[i]>bounds[i][1]:\n",
    "                self.position[i]=bounds[i][1]\n",
    "\n",
    "            # adjust minimum position if neseccary\n",
    "            if self.position[i] < bounds[i][0]:\n",
    "                self.position[i]=bounds[i][0]\n"
   ]
  },
  {
   "cell_type": "code",
   "execution_count": 80,
   "metadata": {},
   "outputs": [],
   "source": [
    "class PSO():\n",
    "    def __init__(self,func_fitness,x0,bounds,num_particles,maxiter):\n",
    "        global num_dimensions\n",
    "\n",
    "        num_dimensions=len(x0)\n",
    "        err_best_g=-1                   # best error for group\n",
    "        pos_best_g=[]                   # best position for group\n",
    "\n",
    "        # establish the swarm\n",
    "        swarm=[]\n",
    "        for i in range(0,num_particles):\n",
    "            swarm.append(Particle(x0))\n",
    "\n",
    "        # begin optimization loop\n",
    "        i=0\n",
    "        while i < maxiter:\n",
    "            #print i,err_best_g\n",
    "            # cycle through particles in swarm and evaluate fitness\n",
    "            for j in range(0,num_particles):\n",
    "                swarm[j].evaluate(func_fitness)\n",
    "\n",
    "                # determine if current particle is the best (globally)\n",
    "                if swarm[j].err < err_best_g or err_best_g == -1:\n",
    "                    pos_best_g=list(swarm[j].position)\n",
    "                    err_best_g=float(swarm[j].err)\n",
    "\n",
    "            # cycle through swarm and update velocities and position\n",
    "            for j in range(0,num_particles):\n",
    "                swarm[j].update_velocity_intertia(pos_best_g)\n",
    "                #swarm[j].update_velocity_clerc(pos_best_g)\n",
    "                swarm[j].update_position(bounds)\n",
    "            i+=1\n",
    "\n",
    "        # print final results\n",
    "        print('Best position: ', pos_best_g)\n",
    "        print('Best error: ', err_best_g)"
   ]
  },
  {
   "cell_type": "code",
   "execution_count": 81,
   "metadata": {},
   "outputs": [
    {
     "name": "stdout",
     "output_type": "stream",
     "text": [
      "Best position:  [1.0, 1.0]\n",
      "Best error:  0.0\n"
     ]
    },
    {
     "data": {
      "text/plain": [
       "<__main__.PSO at 0x7f5fecd52240>"
      ]
     },
     "execution_count": 81,
     "metadata": {},
     "output_type": "execute_result"
    }
   ],
   "source": [
    "if __name__ == \"__PSO__\":\n",
    "    main()\n",
    "\n",
    "initial=[5,5]               # initial starting location [x1,x2...]\n",
    "bounds=[(-10,10),(-10,10)]  # input bounds [(x1_min,x1_max),(x2_min,x2_max)...]\n",
    "#PSO(Sphere,initial,bounds,num_particles=15,maxiter=30)\n",
    "PSO(Rosenbrock,initial,bounds,num_particles=15,maxiter=3000)"
   ]
  },
  {
   "cell_type": "code",
   "execution_count": null,
   "metadata": {},
   "outputs": [],
   "source": []
  },
  {
   "cell_type": "code",
   "execution_count": null,
   "metadata": {},
   "outputs": [],
   "source": []
  }
 ],
 "metadata": {
  "kernelspec": {
   "display_name": "Python 3",
   "language": "python",
   "name": "python3"
  },
  "language_info": {
   "codemirror_mode": {
    "name": "ipython",
    "version": 3
   },
   "file_extension": ".py",
   "mimetype": "text/x-python",
   "name": "python",
   "nbconvert_exporter": "python",
   "pygments_lexer": "ipython3",
   "version": "3.6.6"
  }
 },
 "nbformat": 4,
 "nbformat_minor": 2
}
