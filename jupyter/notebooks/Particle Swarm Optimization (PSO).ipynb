{
 "cells": [
  {
   "cell_type": "code",
   "execution_count": 27,
   "metadata": {},
   "outputs": [],
   "source": [
    "from __future__ import division\n",
    "import numpy as np\n",
    "import math\n",
    "import random"
   ]
  },
  {
   "cell_type": "code",
   "execution_count": 33,
   "metadata": {},
   "outputs": [],
   "source": [
    "def Sphere(x):\n",
    "    res = 0\n",
    "    for r in range(len(x)):\n",
    "        res +=x[r]**2\n",
    "    return res"
   ]
  },
  {
   "cell_type": "code",
   "execution_count": 43,
   "metadata": {},
   "outputs": [],
   "source": [
    "class Particle():\n",
    "    \n",
    "    def __init__(self, pos):\n",
    "        self.position=[]\n",
    "        self.velocity=[]\n",
    "        self.gbest=[]\n",
    "        self.pbest=[]\n",
    "        self.pbest_fitness=-1\n",
    "        self.fitness=-1\n",
    "        \n",
    "        for r in range(0, num_dimensions):\n",
    "            self.velocity.append(random.uniform(-1,1))\n",
    "            self.position.append(pos[r])\n",
    "    \n",
    "    def evaluate(self, fitnessfuc):\n",
    "        self.fitness = fitnessfuc(self.position)\n",
    "        \n",
    "        if self.fitness < self.pbest_fitness or self.fitness == -1:\n",
    "            self.gbest=self.position\n",
    "            self.pbest_fitness=self.pbest_fitness\n",
    "    \n",
    "    def update_velocity(self, gbest_pos):  \n",
    "        w = 0.5\n",
    "        c1 = 2.05\n",
    "        c2 = 2.05\n",
    "        \n",
    "        for r in range(0, num_dimensions):\n",
    "            r1 = random.random()\n",
    "            r2 = random.random()\n",
    "            \n",
    "            vel_cognitive=c1*r1*(self.pbest[r]-self.position[r])\n",
    "            vel_social=c2*r2*(gbest_pos[r]-self.position[r])\n",
    "            self.velocity[r]=w*self.velocity[r]+vel_cognitive+vel_social\n",
    "    \n",
    "    def update_position(self, extr):\n",
    "        for r in range(0, num_dimensions):\n",
    "            self.position[r] = self.position[r]+self.velocity[r]\n",
    "            \n",
    "            if self.position[r] > extr[r][0]:\n",
    "                self.position[r] = extr[r][0]\n",
    "            \n",
    "            if self.position[r] < extr[r][1]:\n",
    "                self.position[r] = extr[r][1]           \n",
    "            "
   ]
  },
  {
   "cell_type": "code",
   "execution_count": 44,
   "metadata": {},
   "outputs": [],
   "source": [
    "class PSO():\n",
    "    def __init__(self,costFunc,x0,bounds,num_particles,maxiter):\n",
    "        global num_dimensions\n",
    "        \n",
    "        num_dimensions = len(x0)\n",
    "        gbest_fitness  = -1\n",
    "        gbest_pos      = []\n",
    "        \n",
    "        parts = []\n",
    "        for r in range(0, num_particles):\n",
    "            parts.append(Particle(x0))\n",
    "        \n",
    "        \n",
    "        for i in range(0, maxiter):\n",
    "            \n",
    "            for r in range(0, num_particles):\n",
    "                parts[r].evaluate(costFunc)\n",
    "                \n",
    "                if parts[r].fitness < gbest_fitness or gbest_fitness == -1:\n",
    "                    gbest_pos = list(parts[r].position)\n",
    "                    gbest_fitness = float(parts[r].fitness)\n",
    "            \n",
    "            for j in range(0, num_particles):\n",
    "                parts[j].update_velocity(gbest_pos)\n",
    "                parts[j].update_position(bounds)\n",
    "        \n",
    "        print(\"Result: \", gbest_pos, gbest_fitness)"
   ]
  },
  {
   "cell_type": "code",
   "execution_count": 45,
   "metadata": {},
   "outputs": [
    {
     "ename": "IndexError",
     "evalue": "list index out of range",
     "traceback": [
      "\u001b[1;31m---------------------------------------------------------------------------\u001b[0m",
      "\u001b[1;31mIndexError\u001b[0m                                Traceback (most recent call last)",
      "\u001b[1;32m<ipython-input-45-4e653c3ee246>\u001b[0m in \u001b[0;36m<module>\u001b[1;34m()\u001b[0m\n\u001b[0;32m      5\u001b[0m \u001b[0minitial\u001b[0m\u001b[1;33m=\u001b[0m\u001b[1;33m[\u001b[0m\u001b[1;36m5\u001b[0m\u001b[1;33m,\u001b[0m\u001b[1;36m5\u001b[0m\u001b[1;33m]\u001b[0m\u001b[1;33m\u001b[0m\u001b[0m\n\u001b[0;32m      6\u001b[0m \u001b[0mbounds\u001b[0m\u001b[1;33m=\u001b[0m\u001b[1;33m[\u001b[0m\u001b[1;33m(\u001b[0m\u001b[1;33m-\u001b[0m\u001b[1;36m10\u001b[0m\u001b[1;33m,\u001b[0m\u001b[1;36m10\u001b[0m\u001b[1;33m)\u001b[0m\u001b[1;33m,\u001b[0m\u001b[1;33m(\u001b[0m\u001b[1;33m-\u001b[0m\u001b[1;36m10\u001b[0m\u001b[1;33m,\u001b[0m\u001b[1;36m10\u001b[0m\u001b[1;33m)\u001b[0m\u001b[1;33m]\u001b[0m\u001b[1;33m\u001b[0m\u001b[0m\n\u001b[1;32m----> 7\u001b[1;33m \u001b[0mPSO\u001b[0m\u001b[1;33m(\u001b[0m\u001b[0mSphere\u001b[0m\u001b[1;33m,\u001b[0m\u001b[0minitial\u001b[0m\u001b[1;33m,\u001b[0m\u001b[0mbounds\u001b[0m\u001b[1;33m,\u001b[0m\u001b[0mnum_particles\u001b[0m\u001b[1;33m=\u001b[0m\u001b[1;36m10\u001b[0m\u001b[1;33m,\u001b[0m\u001b[0mmaxiter\u001b[0m\u001b[1;33m=\u001b[0m\u001b[1;36m20\u001b[0m\u001b[1;33m)\u001b[0m\u001b[1;33m\u001b[0m\u001b[0m\n\u001b[0m",
      "\u001b[1;32m<ipython-input-44-a06892bb56d7>\u001b[0m in \u001b[0;36m__init__\u001b[1;34m(self, costFunc, x0, bounds, num_particles, maxiter)\u001b[0m\n\u001b[0;32m     22\u001b[0m \u001b[1;33m\u001b[0m\u001b[0m\n\u001b[0;32m     23\u001b[0m             \u001b[1;32mfor\u001b[0m \u001b[0mj\u001b[0m \u001b[1;32min\u001b[0m \u001b[0mrange\u001b[0m\u001b[1;33m(\u001b[0m\u001b[1;36m0\u001b[0m\u001b[1;33m,\u001b[0m \u001b[0mnum_particles\u001b[0m\u001b[1;33m)\u001b[0m\u001b[1;33m:\u001b[0m\u001b[1;33m\u001b[0m\u001b[0m\n\u001b[1;32m---> 24\u001b[1;33m                 \u001b[0mparts\u001b[0m\u001b[1;33m[\u001b[0m\u001b[0mj\u001b[0m\u001b[1;33m]\u001b[0m\u001b[1;33m.\u001b[0m\u001b[0mupdate_velocity\u001b[0m\u001b[1;33m(\u001b[0m\u001b[0mgbest_pos\u001b[0m\u001b[1;33m)\u001b[0m\u001b[1;33m\u001b[0m\u001b[0m\n\u001b[0m\u001b[0;32m     25\u001b[0m                 \u001b[0mparts\u001b[0m\u001b[1;33m[\u001b[0m\u001b[0mj\u001b[0m\u001b[1;33m]\u001b[0m\u001b[1;33m.\u001b[0m\u001b[0mupdate_position\u001b[0m\u001b[1;33m(\u001b[0m\u001b[0mbounds\u001b[0m\u001b[1;33m)\u001b[0m\u001b[1;33m\u001b[0m\u001b[0m\n\u001b[0;32m     26\u001b[0m \u001b[1;33m\u001b[0m\u001b[0m\n",
      "\u001b[1;32m<ipython-input-43-1acd7f882e57>\u001b[0m in \u001b[0;36mupdate_velocity\u001b[1;34m(self, gbest_pos)\u001b[0m\n\u001b[0;32m     29\u001b[0m             \u001b[0mr2\u001b[0m \u001b[1;33m=\u001b[0m \u001b[0mrandom\u001b[0m\u001b[1;33m.\u001b[0m\u001b[0mrandom\u001b[0m\u001b[1;33m(\u001b[0m\u001b[1;33m)\u001b[0m\u001b[1;33m\u001b[0m\u001b[0m\n\u001b[0;32m     30\u001b[0m \u001b[1;33m\u001b[0m\u001b[0m\n\u001b[1;32m---> 31\u001b[1;33m             \u001b[0mvel_cognitive\u001b[0m\u001b[1;33m=\u001b[0m\u001b[0mc1\u001b[0m\u001b[1;33m*\u001b[0m\u001b[0mr1\u001b[0m\u001b[1;33m*\u001b[0m\u001b[1;33m(\u001b[0m\u001b[0mself\u001b[0m\u001b[1;33m.\u001b[0m\u001b[0mpbest\u001b[0m\u001b[1;33m[\u001b[0m\u001b[0mr\u001b[0m\u001b[1;33m]\u001b[0m\u001b[1;33m-\u001b[0m\u001b[0mself\u001b[0m\u001b[1;33m.\u001b[0m\u001b[0mposition\u001b[0m\u001b[1;33m[\u001b[0m\u001b[0mr\u001b[0m\u001b[1;33m]\u001b[0m\u001b[1;33m)\u001b[0m\u001b[1;33m\u001b[0m\u001b[0m\n\u001b[0m\u001b[0;32m     32\u001b[0m             \u001b[0mvel_social\u001b[0m\u001b[1;33m=\u001b[0m\u001b[0mc2\u001b[0m\u001b[1;33m*\u001b[0m\u001b[0mr2\u001b[0m\u001b[1;33m*\u001b[0m\u001b[1;33m(\u001b[0m\u001b[0mgbest_pos\u001b[0m\u001b[1;33m[\u001b[0m\u001b[0mr\u001b[0m\u001b[1;33m]\u001b[0m\u001b[1;33m-\u001b[0m\u001b[0mself\u001b[0m\u001b[1;33m.\u001b[0m\u001b[0mposition\u001b[0m\u001b[1;33m[\u001b[0m\u001b[0mr\u001b[0m\u001b[1;33m]\u001b[0m\u001b[1;33m)\u001b[0m\u001b[1;33m\u001b[0m\u001b[0m\n\u001b[0;32m     33\u001b[0m             \u001b[0mself\u001b[0m\u001b[1;33m.\u001b[0m\u001b[0mvelocity\u001b[0m\u001b[1;33m[\u001b[0m\u001b[0mr\u001b[0m\u001b[1;33m]\u001b[0m\u001b[1;33m=\u001b[0m\u001b[0mw\u001b[0m\u001b[1;33m*\u001b[0m\u001b[0mself\u001b[0m\u001b[1;33m.\u001b[0m\u001b[0mvelocity\u001b[0m\u001b[1;33m[\u001b[0m\u001b[0mr\u001b[0m\u001b[1;33m]\u001b[0m\u001b[1;33m+\u001b[0m\u001b[0mvel_cognitive\u001b[0m\u001b[1;33m+\u001b[0m\u001b[0mvel_social\u001b[0m\u001b[1;33m\u001b[0m\u001b[0m\n",
      "\u001b[1;31mIndexError\u001b[0m: list index out of range"
     ],
     "output_type": "error"
    }
   ],
   "source": [
    "if __name__ == \"__PSO__\":\n",
    "    main()\n",
    "    \n",
    "\n",
    "initial=[5,5]\n",
    "bounds=[(-10,10),(-10,10)]\n",
    "PSO(Sphere,initial,bounds,num_particles=10,maxiter=20)"
   ]
  },
  {
   "cell_type": "code",
   "execution_count": null,
   "metadata": {},
   "outputs": [],
   "source": []
  },
  {
   "cell_type": "code",
   "execution_count": null,
   "metadata": {},
   "outputs": [],
   "source": []
  }
 ],
 "metadata": {
  "kernelspec": {
   "display_name": "Python 3",
   "language": "python",
   "name": "python3"
  },
  "language_info": {
   "codemirror_mode": {
    "name": "ipython",
    "version": 3
   },
   "file_extension": ".py",
   "mimetype": "text/x-python",
   "name": "python",
   "nbconvert_exporter": "python",
   "pygments_lexer": "ipython3",
   "version": "3.6.5"
  }
 },
 "nbformat": 4,
 "nbformat_minor": 2
}
